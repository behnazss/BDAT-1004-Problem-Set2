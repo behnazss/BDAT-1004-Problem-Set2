{
 "cells": [
  {
   "cell_type": "markdown",
   "id": "7685d299",
   "metadata": {},
   "source": [
    "Question 1 Consider the following Python module: \n",
    "    a = 0  def b():     global a     a = c(a)  def c(a):     return a + 2 \n",
    "        After importing the module into the interpreter, you execute: \n",
    "        >>> b()\n",
    "        >>> b() \n",
    "        >>> b() \n",
    "        >>> a ? \n",
    "            What value is displayed when the last expression (a) is evaluated?\n",
    "            Explain your answer by indicating what happens in every executed statement. \n",
    "            \n"
   ]
  },
  {
   "cell_type": "markdown",
   "id": "7aa6e644",
   "metadata": {},
   "source": [
    "When the last expression (a) is evaluated, the value displayed would be 6\n",
    "Explanation of what happens in each executed statement:\n",
    "statement\n",
    "Value of (a) \n",
    "comment\n",
    ">>>b ()\n",
    "after the first call to b (), the value of (a)becomes 2\n",
    "The variable (a) is declared as a global variable and the value of it is (0)\n",
    "The function c (0) is called and the value (2) is returned and assigned to the global variable(a)\n",
    "\n",
    "\n",
    ">>>b ()\n",
    "after the second call to b(), the value of (a) becomes 4\n",
    "The current value of (a) is (2).The function c (2) is called and the value (4) is returned from the function c (2) and assigned to the global variable (a)\n",
    "\n",
    "\n",
    ">>>b ()\n",
    "after the third call to b(), the value of (a) becomes 6\n",
    "The current value of (a) is (4).The function c (4) is called and the value (6) is returned from the function c (4) and assigned to the global variable (a)\n",
    "\n",
    "\n",
    ">>>a\n",
    "The value of (a) is 6\n",
    "Finally, the current value of (a) is (6) after the three calls to b().\n",
    "\n",
    "\n",
    "\n"
   ]
  },
  {
   "cell_type": "markdown",
   "id": "28406d06",
   "metadata": {},
   "source": [
    "Question 2\n",
    "Function fileLength(), given to you, takes the name of a file as input and returns the length of the file:\n",
    "    >>> fileLength('midterm.py')\n",
    "    284\n",
    "    >>> fileLength('idterm.py') \n",
    "    Traceback (most recent call last):\n",
    "        File \"<pyshell#34>\", line 1, in <module>  \n",
    "          fileLength('idterm.py') \n",
    "        File \"/Users/me/midterm.py\", line 3, in fileLength \n",
    "          infile = open(filename)\n",
    "        FileNotFoundError: [Errno 2] No such file or directory: 'idterm.py' \n",
    " As shown above, if the file cannot be found by the interpreter or if it cannot be read as a text file,\n",
    "an exception will be raised. Modify function fileLength() so that a friendly message is printed instead:\n",
    ">>> fileLength('midterm.py') 358\n",
    ">>> fileLength('idterm.py') File idterm.py not found. "
   ]
  },
  {
   "cell_type": "code",
   "execution_count": 3,
   "id": "fff9f11a",
   "metadata": {},
   "outputs": [
    {
     "data": {
      "text/plain": [
       "123"
      ]
     },
     "execution_count": 3,
     "metadata": {},
     "output_type": "execute_result"
    }
   ],
   "source": [
    "def fileLength(filename):\n",
    "    try:\n",
    "        infile = open('Filelength.txt', 'r')\n",
    "        contents = infile.read()\n",
    "        length = len(contents)\n",
    "        infile.close()\n",
    "        return length\n",
    "    except FileNotFoundError:\n",
    "        print(f\"File {'Filelength.txt'} not found.\")\n",
    "        \n",
    "fileLength('midterm.py')\n",
    "fileLength('idterm.py')\n"
   ]
  },
  {
   "cell_type": "markdown",
   "id": "823be9b2",
   "metadata": {},
   "source": [
    "Question 3 \n",
    "Write a class named Marsupial that can be used as shown below: \n",
    "    >>> m = Marsupial()\n",
    "    >>> m.put_in_pouch('doll') \n",
    "    >>> m.put_in_pouch('firetruck')\n",
    "    >>> m.put_in_pouch('kitten') \n",
    "    >>> m.pouch_contents() ['doll', 'firetruck', 'kitten'] \n",
    " Now write a class named Kangaroo as a subclass of Marsupial that inherits all the attributes of Marsupial and also:\n",
    "    a. extends the Marsupial __init__ constructor to take, as input,\n",
    "    the coordinates x and y of the Kangaroo object,\n",
    "    b. supports method jump that takes number values dx and dy as input\n",
    "    and moves the kangaroo by dx units along the x-axis and by dy units\n",
    "    along the yaxis, and \n",
    "    c. overloads the __str__ operator so it behaves as shown below. \n",
    "    >>> k = Kangaroo(0,0)\n",
    "    >>> print(k) I am a Kangaroo located at coordinates (0,0)\n",
    "    >>> k.put_in_pouch('doll') \n",
    "    >>> k.put_in_pouch('firetruck') \n",
    "    >>> k.put_in_pouch('kitten') \n",
    "    >>> k.pouch_contents() ['doll', 'firetruck', 'kitten'] \n",
    "    >>> k.jump(1,0) \n",
    "    >>> k.jump(1,0) \n",
    "    >>> k.jump(1,0) \n",
    "    >>> print(k) I am a Kangaroo located at coordinates (3,0)   \n",
    "    "
   ]
  },
  {
   "cell_type": "code",
   "execution_count": 8,
   "id": "a6c55d81",
   "metadata": {},
   "outputs": [],
   "source": [
    "class Marsupial:\n",
    "    def __init__(self):\n",
    "        self.pouch = []\n",
    "\n",
    "    def put_in_pouch(self, item):\n",
    "        self.pouch.append(item)\n",
    "\n",
    "    def pouch_contents(self):\n",
    "        return self.pouch\n",
    "\n",
    "class Kangaroo(Marsupial):\n",
    "    def __init__(self, x, y):\n",
    "        super().__init__()\n",
    "        self.x = x\n",
    "        self.y = y\n",
    "\n",
    "    def jump(self, dx, dy):\n",
    "        self.x += dx\n",
    "        self.y += dy\n",
    "\n",
    "    def __str__(self):\n",
    "        return f\"I am a Kangaroo located at coordinates ({self.x},{self.y})\"\n"
   ]
  },
  {
   "cell_type": "markdown",
   "id": "b5a84aa5",
   "metadata": {},
   "source": [
    "Question 4\n",
    "Write function collatz() that takes a positive integer x as input and prints the Collatz sequence starting at x.\n",
    "A Collatz sequence is obtained by repeatedly applying this rule to the previous number x in the sequence:\n",
    "    x = {  𝑥/2         \n",
    "         𝑖𝑓 𝑥 𝑖𝑠 𝑒𝑣𝑒𝑛 3𝑥+1      \n",
    "         𝑖𝑓 𝑥 𝑖𝑠 𝑜𝑑𝑑 \n",
    "         Your function should stop when the sequence gets to number\n",
    "         1. Your implementation must be recursive, without any loops. \n",
    "         >>> collatz(1) \n",
    "         1\n",
    "         >>> collatz(10)\n",
    "         10\n",
    "         5\n",
    "         16\n",
    "         8\n",
    "         4 \n",
    "         2 \n",
    "         1\n"
   ]
  },
  {
   "cell_type": "code",
   "execution_count": 4,
   "id": "de94076b",
   "metadata": {},
   "outputs": [
    {
     "name": "stdout",
     "output_type": "stream",
     "text": [
      "Please enter a positive number:28\n",
      "28\n",
      "14\n",
      "7\n",
      "22\n",
      "11\n",
      "34\n",
      "17\n",
      "52\n",
      "26\n",
      "13\n",
      "40\n",
      "20\n",
      "10\n",
      "5\n",
      "16\n",
      "8\n",
      "4\n",
      "2\n",
      "1\n"
     ]
    }
   ],
   "source": [
    "def collatz(x):\n",
    "    print(x)\n",
    "    if x == 1:\n",
    "        return\n",
    "    elif x % 2 == 0:\n",
    "        collatz(x // 2)\n",
    "    else:\n",
    "        collatz(3 * x + 1)\n",
    "n=int(input(\"Please enter a positive number:\"))        \n",
    "collatz(n)\n"
   ]
  },
  {
   "cell_type": "markdown",
   "id": "58ba054a",
   "metadata": {},
   "source": [
    "Question 5\n",
    "Write a recursive method binary() that takes a non-negative integer n and prints the binary representation of integer n.\n",
    ">>> binary(0) 0\n",
    ">>> binary(1)\n",
    "1\n",
    ">>> binary(3)\n",
    "11 \n",
    ">>> binary(9) \n",
    "1001  "
   ]
  },
  {
   "cell_type": "code",
   "execution_count": 2,
   "id": "07431418",
   "metadata": {},
   "outputs": [
    {
     "name": "stdout",
     "output_type": "stream",
     "text": [
      "binary 9\n",
      "1\n",
      "001"
     ]
    }
   ],
   "source": [
    "def binary(n):\n",
    "    if n == 0:\n",
    "        print('0')\n",
    "    elif n == 1:\n",
    "        print('1')\n",
    "    else:\n",
    "        binary(n // 2)\n",
    "        print(n % 2, end='')\n",
    "n=int(input(\"binary \"))\n",
    "binary(n)\n"
   ]
  },
  {
   "cell_type": "markdown",
   "id": "faa56668",
   "metadata": {},
   "source": [
    "Question 6\n",
    "Implement a class named HeadingParser that can be used to parse an HTML\n",
    "document, and retrieve and print all the headings in the document. You should\n",
    "implement your class as a subclass of HTMLParser, defined in Standard Library \n",
    "module html.parser. When fed a string containing HTML code, your class should\n",
    "print the headings, one per line and in the order in which they appear in the\n",
    "document. Each heading should be indented as follows: an h1 heading should have\n",
    " indentation 0, and h2 heading should have indentation 1, etc. Test your \n",
    "implementation using w3c.html.\n",
    "\n",
    ">>> infile = open('w3c.html')\n",
    ">>> content = infile.read()\n",
    ">>> infile.close() \n",
    ">>> hp = HeadingParser()\n",
    ">>> hp.feed(content) W3C Mission  Principles    \n",
    "    "
   ]
  },
  {
   "cell_type": "code",
   "execution_count": 7,
   "id": "c3536f10",
   "metadata": {},
   "outputs": [
    {
     "ename": "FileNotFoundError",
     "evalue": "[Errno 2] No such file or directory: 'w3c.html'",
     "output_type": "error",
     "traceback": [
      "\u001b[1;31m---------------------------------------------------------------------------\u001b[0m",
      "\u001b[1;31mFileNotFoundError\u001b[0m                         Traceback (most recent call last)",
      "Cell \u001b[1;32mIn[7], line 25\u001b[0m\n\u001b[0;32m     21\u001b[0m             \u001b[38;5;28mself\u001b[39m\u001b[38;5;241m.\u001b[39mprint_content \u001b[38;5;241m=\u001b[39m \u001b[38;5;28;01mFalse\u001b[39;00m\n\u001b[0;32m     24\u001b[0m \u001b[38;5;66;03m# Usage example\u001b[39;00m\n\u001b[1;32m---> 25\u001b[0m \u001b[38;5;28;01mwith\u001b[39;00m \u001b[38;5;28;43mopen\u001b[39;49m\u001b[43m(\u001b[49m\u001b[38;5;124;43m'\u001b[39;49m\u001b[38;5;124;43mw3c.html\u001b[39;49m\u001b[38;5;124;43m'\u001b[39;49m\u001b[43m)\u001b[49m \u001b[38;5;28;01mas\u001b[39;00m infile:\n\u001b[0;32m     26\u001b[0m     content \u001b[38;5;241m=\u001b[39m infile\u001b[38;5;241m.\u001b[39mread()\n\u001b[0;32m     28\u001b[0m hp \u001b[38;5;241m=\u001b[39m HeadingParser()\n",
      "File \u001b[1;32m~\\anaconda3\\lib\\site-packages\\IPython\\core\\interactiveshell.py:282\u001b[0m, in \u001b[0;36m_modified_open\u001b[1;34m(file, *args, **kwargs)\u001b[0m\n\u001b[0;32m    275\u001b[0m \u001b[38;5;28;01mif\u001b[39;00m file \u001b[38;5;129;01min\u001b[39;00m {\u001b[38;5;241m0\u001b[39m, \u001b[38;5;241m1\u001b[39m, \u001b[38;5;241m2\u001b[39m}:\n\u001b[0;32m    276\u001b[0m     \u001b[38;5;28;01mraise\u001b[39;00m \u001b[38;5;167;01mValueError\u001b[39;00m(\n\u001b[0;32m    277\u001b[0m         \u001b[38;5;124mf\u001b[39m\u001b[38;5;124m\"\u001b[39m\u001b[38;5;124mIPython won\u001b[39m\u001b[38;5;124m'\u001b[39m\u001b[38;5;124mt let you open fd=\u001b[39m\u001b[38;5;132;01m{\u001b[39;00mfile\u001b[38;5;132;01m}\u001b[39;00m\u001b[38;5;124m by default \u001b[39m\u001b[38;5;124m\"\u001b[39m\n\u001b[0;32m    278\u001b[0m         \u001b[38;5;124m\"\u001b[39m\u001b[38;5;124mas it is likely to crash IPython. If you know what you are doing, \u001b[39m\u001b[38;5;124m\"\u001b[39m\n\u001b[0;32m    279\u001b[0m         \u001b[38;5;124m\"\u001b[39m\u001b[38;5;124myou can use builtins\u001b[39m\u001b[38;5;124m'\u001b[39m\u001b[38;5;124m open.\u001b[39m\u001b[38;5;124m\"\u001b[39m\n\u001b[0;32m    280\u001b[0m     )\n\u001b[1;32m--> 282\u001b[0m \u001b[38;5;28;01mreturn\u001b[39;00m io_open(file, \u001b[38;5;241m*\u001b[39margs, \u001b[38;5;241m*\u001b[39m\u001b[38;5;241m*\u001b[39mkwargs)\n",
      "\u001b[1;31mFileNotFoundError\u001b[0m: [Errno 2] No such file or directory: 'w3c.html'"
     ]
    }
   ],
   "source": [
    "from html.parser import HTMLParser\n",
    "\n",
    "\n",
    "class HeadingParser(HTMLParser):\n",
    "    def __init__(self):\n",
    "        super().__init__()\n",
    "        self.indentation = 0\n",
    "        self.print_content = False\n",
    "\n",
    "    def handle_starttag(self, tag, attrs):\n",
    "        if tag.startswith('h'):\n",
    "            self.indentation = int(tag[1:]) - 1\n",
    "            self.print_content = True\n",
    "\n",
    "    def handle_data(self, data):\n",
    "        if self.print_content and data.strip():\n",
    "            print(' ' * self.indentation + data)\n",
    "\n",
    "    def handle_endtag(self, tag):\n",
    "        if tag.startswith('h'):\n",
    "            self.print_content = False\n",
    "\n",
    "\n",
    "# Usage example\n",
    "with open('w3c.html') as infile:\n",
    "    content = infile.read()\n",
    "\n",
    "hp = HeadingParser()\n",
    "hp.feed(content)"
   ]
  },
  {
   "cell_type": "markdown",
   "id": "e9f069eb",
   "metadata": {},
   "source": [
    "Question 7 \n",
    "Implement recursive function webdir() that takes as input: a URL (as a string) \n",
    "    and non-negative integers depth and indent. Your function should visit every web \n",
    "    page reachable from the starting URL web page in depth clicks or less, and print\n",
    "    each web page's URL. As shown below, indentation, specified by indent,  should\n",
    "    be used to indicate the depth of a URL. \n",
    "    >>> webdir('http://reed.cs.depaul.edu/lperkovic/csc242/test1.html'\n",
    "               , 2, 0)\n",
    "    http://reed.cs.depaul.edu/lperkovic/csc242/test1.html\n",
    "    http://reed.cs.depaul.edu/lperkovic/csc242/test2.html   \n",
    "    http://reed.cs.depaul.edu/lperkovic/csc242/test4.html \n",
    "    http://reed.cs.depaul.edu/lperkovic/csc242/test3.html   \n",
    "    http://reed.cs.depaul.edu/lperk"
   ]
  },
  {
   "cell_type": "code",
   "execution_count": 3,
   "id": "b5262238",
   "metadata": {},
   "outputs": [
    {
     "name": "stdout",
     "output_type": "stream",
     "text": [
      "http://reed.cs.depaul.edu/lperkovic/csc242/test1.html\n"
     ]
    }
   ],
   "source": [
    "import requests\n",
    "\n",
    "\n",
    "def webdir(url, depth, indent):\n",
    "    # Print the URL with the specified indentation\n",
    "    print(' ' * indent + url)\n",
    "\n",
    "    # Stop recursion if depth is 0\n",
    "    if depth == 0:\n",
    "        return\n",
    "\n",
    "    try:\n",
    "        # Retrieve the HTML content of the web page\n",
    "        response = requests.get(url)\n",
    "        content = response.text\n",
    "\n",
    "        # Find all anchor tags\n",
    "        start_index = 0\n",
    "        while True:\n",
    "            start_link = content.find(\"<a href=\", start_index)\n",
    "            if start_link == -1:\n",
    "                break\n",
    "\n",
    "            start_quote = content.find('\"', start_link)\n",
    "            end_quote = content.find('\"', start_quote + 1)\n",
    "            link = content[start_quote + 1:end_quote]\n",
    "\n",
    "            if link.startswith('http'):\n",
    "                webdir(link, depth - 1, indent + 4)\n",
    "\n",
    "            start_index = end_quote\n",
    "\n",
    "    except requests.exceptions.RequestException:\n",
    "        # Print an error message if the web page cannot be accessed\n",
    "        print(' ' * indent + 'Error: Failed to access ' + url)\n",
    "\n",
    "\n",
    "# Usage example\n",
    "webdir('http://reed.cs.depaul.edu/lperkovic/csc242/test1.html', 2, 0)"
   ]
  },
  {
   "cell_type": "markdown",
   "id": "d7a8b292",
   "metadata": {},
   "source": [
    "Question 8\n",
    "Write SQL queries on the below database table that return:\n",
    "a) All the temperature data.\n",
    "b) All the cities, but without repetition. \n",
    "c) All the records for India.\n",
    "d) All the Fall records. \n",
    "e) The city, country, and season for which the average rainfall is between 200 \n",
    "and 400 millimeters.\n",
    "f) The city and country for which the average Fall temperature is above 20 \n",
    "degrees, in increasing temperature order.\n",
    "g) The total annual rainfall for Cairo.\n",
    "h) The total rainfall for each season"
   ]
  },
  {
   "cell_type": "code",
   "execution_count": null,
   "id": "dc9d5a96",
   "metadata": {},
   "outputs": [],
   "source": [
    "a) All the temperature data.\n",
    "SELECT Temperature FROM table_name;\n",
    "*******************************************\n",
    "b) All the cities, but without repetition.\n",
    "SELECT DISTINCT City FROM table_name;\n",
    "*******************************************\n",
    "c) All the records for India.\n",
    "SELECT * FROM table_name WHERE Country = 'India';\n",
    "*******************************************\n",
    "d) All the Fall records.\n",
    "SELECT * FROM table_name WHERE Season = 'Fall';\n",
    "*******************************************\n",
    "e) The city, country, and season for which the average rainfall is between 200 and 400 millimeters.\n",
    "SELECT City, Country, Season \n",
    "FROM table_name\n",
    "WHERE Rainfall BETWEEN 200 AND 400;\n",
    "*******************************************\n",
    "f) The city and country for which the average Fall temperature is above 20 degrees, in increasing temperature order.\n",
    "SELECT City, Country\n",
    "FROM table_name\n",
    "WHERE Season = 'Fall' AND Temperature > 20\n",
    "ORDER BY Temperature ASC;\n",
    "*******************************************\n",
    "g) The total annual rainfall for Cairo.\n",
    "SELECT SUM(Rainfall) AS Total_Rainfall\n",
    "FROM table_name\n",
    "WHERE City = 'Cairo';\n",
    "*******************************************\n",
    "h) The total rainfall for each season.\n",
    "SELECT Season, SUM(Rainfall) AS Total_Rainfall\n",
    "FROM table_name\n",
    "GROUP BY Season;\n"
   ]
  },
  {
   "cell_type": "markdown",
   "id": "0368a833",
   "metadata": {},
   "source": [
    "Question 9 .\n",
    "Suppose list words is defined as follows:\n",
    " >>> words = ['The', 'quick', 'brown', 'fox', 'jumps', 'over','the', 'lazy', 'dog']\n",
    "Write list comprehension expressions that use list words\n",
    "and generate the following lists:  \n",
    "a) ['THE', 'QUICK', 'BROWN', 'FOX','JUMPS', 'OVER', 'THE', 'LAZY', 'DOG'] \n",
    "b) ['the', 'quick', 'brown', 'fox', 'jumps', 'over', 'the', 'lazy', 'dog'] \n",
    "c) [3, 5, 5, 3, 5, 4, 3, 4, 3] (the list of lengths of words in list words). \n",
    "d) [['THE', 'the', 3], ['QUICK', 'quick', 5], ['BROWN', 'brown', 5], \n",
    "    ['FOX', 'fox', 3], ['JUMPS', 'jumps', 5], ['OVER', 'over', 4],\n",
    "    ['THE', 'the', 3], ['LAZY', 'lazy', 4], ['DOG', 'dog', 3]] \n",
    "(the list containing a list for every word of list words, where each list\n",
    " contains the word in uppercase and lowercase and the length of the word.)\n",
    "e) ['The', 'quick', 'brown', 'fox', 'jumps', 'over', 'the', 'lazy', 'dog']\n",
    "(the list of words in list words containing 4 or more characters.) "
   ]
  },
  {
   "cell_type": "code",
   "execution_count": null,
   "id": "96e93d17",
   "metadata": {},
   "outputs": [],
   "source": [
    "a) ['THE', 'QUICK', 'BROWN', 'FOX', 'JUMPS', 'OVER', 'THE', 'LAZY', 'DOG']\n",
    "uppercase_words = [word.upper() for word in words]\n",
    "print(uppercase_words)\n",
    "*******************************************\n",
    "b) ['the', 'quick', 'brown', 'fox', 'jumps', 'over', 'the', 'lazy', 'dog']\n",
    "lowercase_words = [word.lower() for word in words]\n",
    "print(lowercase_words)\n",
    "*******************************************\n",
    "c) [3, 5, 5, 3, 5, 4, 3, 4, 3]\n",
    "word_lengths = [len(word) for word in words]\n",
    "print(word_lengths)\n",
    "*******************************************\n",
    "d) [['THE', 'the', 3], ['QUICK', 'quick', 5], ['BROWN', 'brown', 5], ['FOX', 'fox', 3], ['JUMPS', 'jumps', 5], ['OVER', 'over', 4], ['THE', 'the', 3], ['LAZY', 'lazy', 4], ['DOG', 'dog', 3]]\n",
    "word_info = [[word.upper(), word.lower(), len(word)] for word in words]\n",
    "print(word_info)\n",
    "*******************************************\n",
    "e) ['The', 'quick', 'brown', 'fox', 'jumps', 'over', 'the', 'lazy', 'dog']\n",
    "long_words = [word for word in words if len(word) >= 4]\n",
    "print(long_words)\n"
   ]
  }
 ],
 "metadata": {
  "kernelspec": {
   "display_name": "Python 3 (ipykernel)",
   "language": "python",
   "name": "python3"
  },
  "language_info": {
   "codemirror_mode": {
    "name": "ipython",
    "version": 3
   },
   "file_extension": ".py",
   "mimetype": "text/x-python",
   "name": "python",
   "nbconvert_exporter": "python",
   "pygments_lexer": "ipython3",
   "version": "3.10.9"
  }
 },
 "nbformat": 4,
 "nbformat_minor": 5
}
